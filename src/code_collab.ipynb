{
  "nbformat": 4,
  "nbformat_minor": 0,
  "metadata": {
    "colab": {
      "provenance": [],
      "collapsed_sections": [
        "Ij_w-hemKQdH"
      ]
    },
    "kernelspec": {
      "name": "python3",
      "display_name": "Python 3"
    },
    "language_info": {
      "name": "python"
    }
  },
  "cells": [
    {
      "cell_type": "markdown",
      "source": [
        "# Анализ контигов\n",
        "---"
      ],
      "metadata": {
        "id": "OlaKRR40f5gq"
      }
    },
    {
      "cell_type": "markdown",
      "source": [
        "### Скачиваем файлы по raw ссылкам с репозитория."
      ],
      "metadata": {
        "id": "Ij_w-hemKQdH"
      }
    },
    {
      "cell_type": "code",
      "execution_count": null,
      "metadata": {
        "id": "Oh5KI1Ik6PkY",
        "colab": {
          "base_uri": "https://localhost:8080/"
        },
        "outputId": "ece95a34-7ac7-4901-82ef-d7c3478ebb71"
      },
      "outputs": [
        {
          "output_type": "stream",
          "name": "stdout",
          "text": [
            "--2022-10-06 15:31:24--  https://raw.githubusercontent.com/marato-o/hse22_hw1/master/data/out_contig.fa\n",
            "Resolving raw.githubusercontent.com (raw.githubusercontent.com)... 185.199.108.133, 185.199.109.133, 185.199.110.133, ...\n",
            "Connecting to raw.githubusercontent.com (raw.githubusercontent.com)|185.199.108.133|:443... connected.\n",
            "HTTP request sent, awaiting response... 200 OK\n",
            "Length: 3988750 (3.8M) [text/plain]\n",
            "Saving to: ‘out_contig.fa’\n",
            "\n",
            "out_contig.fa       100%[===================>]   3.80M  --.-KB/s    in 0.08s   \n",
            "\n",
            "2022-10-06 15:31:24 (46.2 MB/s) - ‘out_contig.fa’ saved [3988750/3988750]\n",
            "\n"
          ]
        }
      ],
      "source": [
        "!wget https://raw.githubusercontent.com/marato-o/hse22_hw1/master/data/out_contig.fa"
      ]
    },
    {
      "cell_type": "code",
      "source": [
        "!wget https://raw.githubusercontent.com/marato-o/hse22_hw1/master/data/out_scaffold.fa"
      ],
      "metadata": {
        "colab": {
          "base_uri": "https://localhost:8080/"
        },
        "id": "4Gf0BZAjeQvN",
        "outputId": "757b43cc-510f-4183-ff9c-217ff2dea8ae"
      },
      "execution_count": null,
      "outputs": [
        {
          "output_type": "stream",
          "name": "stdout",
          "text": [
            "--2022-10-06 15:31:24--  https://raw.githubusercontent.com/marato-o/hse22_hw1/master/data/out_scaffold.fa\n",
            "Resolving raw.githubusercontent.com (raw.githubusercontent.com)... 185.199.108.133, 185.199.109.133, 185.199.110.133, ...\n",
            "Connecting to raw.githubusercontent.com (raw.githubusercontent.com)|185.199.108.133|:443... connected.\n",
            "HTTP request sent, awaiting response... 200 OK\n",
            "Length: 3926581 (3.7M) [text/plain]\n",
            "Saving to: ‘out_scaffold.fa’\n",
            "\n",
            "out_scaffold.fa     100%[===================>]   3.74M  --.-KB/s    in 0.07s   \n",
            "\n",
            "2022-10-06 15:31:25 (53.9 MB/s) - ‘out_scaffold.fa’ saved [3926581/3926581]\n",
            "\n"
          ]
        }
      ]
    },
    {
      "cell_type": "code",
      "source": [
        "!wget https://raw.githubusercontent.com/marato-o/hse22_hw1/master/data/out_gapClosed.fa"
      ],
      "metadata": {
        "colab": {
          "base_uri": "https://localhost:8080/"
        },
        "id": "a70kNP24eYS8",
        "outputId": "7d0ed91f-95b4-428f-95c5-e3852e57379a"
      },
      "execution_count": null,
      "outputs": [
        {
          "output_type": "stream",
          "name": "stdout",
          "text": [
            "--2022-10-06 15:31:25--  https://raw.githubusercontent.com/marato-o/hse22_hw1/master/data/out_gapClosed.fa\n",
            "Resolving raw.githubusercontent.com (raw.githubusercontent.com)... 185.199.111.133, 185.199.108.133, 185.199.109.133, ...\n",
            "Connecting to raw.githubusercontent.com (raw.githubusercontent.com)|185.199.111.133|:443... connected.\n",
            "HTTP request sent, awaiting response... 200 OK\n",
            "Length: 3962918 (3.8M) [text/plain]\n",
            "Saving to: ‘out_gapClosed.fa’\n",
            "\n",
            "out_gapClosed.fa    100%[===================>]   3.78M  --.-KB/s    in 0.07s   \n",
            "\n",
            "2022-10-06 15:31:25 (53.4 MB/s) - ‘out_gapClosed.fa’ saved [3962918/3962918]\n",
            "\n"
          ]
        }
      ]
    },
    {
      "cell_type": "markdown",
      "source": [
        "### Установка библиотеки biopython"
      ],
      "metadata": {
        "id": "cHNrzPmQgGr3"
      }
    },
    {
      "cell_type": "code",
      "source": [
        "!pip install biopython "
      ],
      "metadata": {
        "colab": {
          "base_uri": "https://localhost:8080/"
        },
        "id": "Fax59gjDgOTc",
        "outputId": "68f80388-55c3-4e34-ac44-5debc730c024"
      },
      "execution_count": null,
      "outputs": [
        {
          "output_type": "stream",
          "name": "stdout",
          "text": [
            "Looking in indexes: https://pypi.org/simple, https://us-python.pkg.dev/colab-wheels/public/simple/\n",
            "Requirement already satisfied: biopython in /usr/local/lib/python3.7/dist-packages (1.79)\n",
            "Requirement already satisfied: numpy in /usr/local/lib/python3.7/dist-packages (from biopython) (1.21.6)\n"
          ]
        }
      ]
    },
    {
      "cell_type": "markdown",
      "source": [
        "### Вывод кол-ва контигов, общей длины контигов и максимального по длине контига"
      ],
      "metadata": {
        "id": "87IMGHCuAB1Z"
      }
    },
    {
      "cell_type": "code",
      "source": [
        "import Bio\n",
        "from Bio import SeqIO\n",
        "from Bio.Seq import Seq\n",
        "import re\n",
        "\n",
        "con_list = list(SeqIO.parse(\"out_contig.fa\", \"fasta\"))\n",
        "con_amount = len(con_list)\n",
        "con_len_list = list([len(record.seq) for record in con_list])\n",
        "con_length = sum(con_len_list)\n",
        "max_len_con = max([len(record.seq) for record in con_list])\n",
        "\n",
        "print(\"кол-во контигов –\", con_amount)\n",
        "print(\"общая длина контигов –\", con_length)\n",
        "print(\"размер макс. контига –\", max_len_con)"
      ],
      "metadata": {
        "id": "fT46GdltgTDz",
        "colab": {
          "base_uri": "https://localhost:8080/"
        },
        "outputId": "36f67cc5-03ae-414e-a033-c4830a2f8dd4"
      },
      "execution_count": null,
      "outputs": [
        {
          "output_type": "stream",
          "name": "stdout",
          "text": [
            "кол-во контигов – 614\n",
            "общая длина контигов – 3925697\n",
            "размер макс. контига – 179304\n"
          ]
        }
      ]
    },
    {
      "cell_type": "markdown",
      "source": [
        "### Вывод N50 контигов"
      ],
      "metadata": {
        "id": "Ix7ZxoIrDw1X"
      }
    },
    {
      "cell_type": "markdown",
      "source": [
        "Для определения N50 контигов достаточно отсортировать список из резмера каждого контига, после чего определить первый элемент списка, после которого сумма длин контигов превышающет половину общей рдлины контигов. Его длина и будет определять N50."
      ],
      "metadata": {
        "id": "CP9gVmBAEMhh"
      }
    },
    {
      "cell_type": "code",
      "source": [
        "sorted_con_len_list = sorted(con_len_list)\n",
        "S = 0\n",
        "i = 0\n",
        "while (S < con_length/2) :\n",
        "  S += sorted_con_len_list[i]\n",
        "  i += 1\n",
        "\n",
        "print(\"N50:\", sorted_con_len_list[i-1])\n"
      ],
      "metadata": {
        "colab": {
          "base_uri": "https://localhost:8080/"
        },
        "id": "rO2Wc-EU_ljA",
        "outputId": "17b39f9c-e823-44ae-dd7b-91da2d57cffd"
      },
      "execution_count": null,
      "outputs": [
        {
          "output_type": "stream",
          "name": "stdout",
          "text": [
            "N50: 47611\n"
          ]
        }
      ]
    },
    {
      "cell_type": "markdown",
      "source": [
        "# Анализ скаффолдов"
      ],
      "metadata": {
        "id": "E7Wbl5-mI0-m"
      }
    },
    {
      "cell_type": "markdown",
      "source": [
        "Аналогично тому, как анализировали контиги, повторим все действия для анализа скаффолдов."
      ],
      "metadata": {
        "id": "vd3zl0kxI-0R"
      }
    },
    {
      "cell_type": "code",
      "source": [
        "sca_list = list(SeqIO.parse(\"out_scaffold.fa\", \"fasta\"))\n",
        "sca_amount = len(sca_list)\n",
        "sca_len_list = list([len(record.seq) for record in sca_list])\n",
        "sca_length = sum(sca_len_list)\n",
        "max_len_sca = max([len(record.seq) for record in sca_list])\n",
        "\n",
        "print(\"кол-во скаффолдов –\", sca_amount)\n",
        "print(\"общая длина скаффолдов –\", sca_length)\n",
        "print(\"размер макс. скаффолда –\", max_len_sca)\n",
        "\n",
        "sorted_sca_len_list = sorted(sca_len_list, reverse = True)\n",
        "S = 0\n",
        "i = 0\n",
        "while (S < sca_length/2) :\n",
        "  S += sorted_sca_len_list[i]\n",
        "  i += 1\n",
        "\n",
        "print(\"N50:\", sorted_sca_len_list[i-1])"
      ],
      "metadata": {
        "colab": {
          "base_uri": "https://localhost:8080/"
        },
        "id": "sAjliqFzJKne",
        "outputId": "a461e347-a0c7-495a-851b-a64381b94c4c"
      },
      "execution_count": null,
      "outputs": [
        {
          "output_type": "stream",
          "name": "stdout",
          "text": [
            "кол-во скаффолдов – 70\n",
            "общая длина скаффолдов – 3875879\n",
            "размер макс. скаффолда – 3834187\n",
            "N50: 3834187\n"
          ]
        }
      ]
    },
    {
      "cell_type": "markdown",
      "source": [
        "### Подсчёт гэпов самого длинного скаффолда"
      ],
      "metadata": {
        "id": "Zgf9Ezt7J44-"
      }
    },
    {
      "cell_type": "markdown",
      "source": [
        "В начале определим саммый длинный скаффолд.\n",
        "Для определения числа числа участков из гэпов \"NNN\" будем использовать функцию findall библиотеки регулярных выражений re."
      ],
      "metadata": {
        "id": "vWxjteHjWlDo"
      }
    },
    {
      "cell_type": "code",
      "source": [
        "max_sca = max([record.seq for record in SeqIO.parse(\"out_scaffold.fa\", \"fasta\")], key=len)\n",
        "gaps = re.findall(\"N+\", str(max_sca))\n",
        "gaps_sum = sum(len(i) for i in gaps)\n",
        "print(\"Число гэпов в наибольшем по длине скаффорде:\", len(gaps))\n",
        "print(\"Длина гэпов в наибольшем по длине скаффорде:\", gaps_sum)"
      ],
      "metadata": {
        "colab": {
          "base_uri": "https://localhost:8080/"
        },
        "id": "r7VX42VPWaV0",
        "outputId": "89d2a998-3ffe-4302-fce3-8b44a95b6835"
      },
      "execution_count": null,
      "outputs": [
        {
          "output_type": "stream",
          "name": "stdout",
          "text": [
            "Число гэпов в наибольшем по длине скаффорде: 60\n",
            "Длина гэпов в наибольшем по длине скаффорде: 6057\n"
          ]
        }
      ]
    },
    {
      "cell_type": "markdown",
      "source": [
        "### Подсчёт гэпов самого длинного скаффолда после операции уменьшения гэпов"
      ],
      "metadata": {
        "id": "P2Wf8n53tImR"
      }
    },
    {
      "cell_type": "code",
      "source": [
        "max_sca = max([record.seq for record in SeqIO.parse(\"out_gapClosed.fa\", \"fasta\")], key=len)\n",
        "gaps = re.findall(\"N+\", str(max_sca))\n",
        "gaps_sum = sum(len(i) for i in gaps)\n",
        "print(\"Число гэпов в наибольшем по длине скаффорде после операции уменьшения гэпов:\", len(gaps))\n",
        "print(\"Длина гэпов в наибольшем по длине скаффорде после операции уменьшения гэпов::\", gaps_sum)"
      ],
      "metadata": {
        "colab": {
          "base_uri": "https://localhost:8080/"
        },
        "id": "NdSgXAgqtUbP",
        "outputId": "21369f33-0292-427c-e732-2694c5cde26b"
      },
      "execution_count": null,
      "outputs": [
        {
          "output_type": "stream",
          "name": "stdout",
          "text": [
            "Число гэпов в наибольшем по длине скаффорде после операции уменьшения гэпов: 8\n",
            "Длина гэпов в наибольшем по длине скаффорде после операции уменьшения гэпов:: 1908\n"
          ]
        }
      ]
    }
  ]
}